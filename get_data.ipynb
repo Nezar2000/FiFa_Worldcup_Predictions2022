{
 "cells": [
  {
   "cell_type": "code",
   "execution_count": 3,
   "id": "b413a0e6",
   "metadata": {},
   "outputs": [],
   "source": [
    "import pandas as pd\n",
    "from bs4 import BeautifulSoup\n",
    "import requests\n",
    "\n",
    "# data to scraper -> 1930-2018\n",
    "years = [1930, 1934, 1938, 1950, 1954, 1958, 1962, 1966, 1970, 1974,\n",
    "         1978, 1982, 1986, 1990, 1994, 1998, 2002, 2006, 2010, 2014,\n",
    "         2018]\n",
    "\n",
    "\n",
    "def get_matches(year):\n",
    "    web = f'https://en.wikipedia.org/wiki/{year}_FIFA_World_Cup'\n",
    "    response = requests.get(web)\n",
    "    content = response.text\n",
    "    soup = BeautifulSoup(content, 'lxml')\n",
    "    matches = soup.find_all('div', class_='footballbox')\n",
    "\n",
    "    home = []\n",
    "    score = []\n",
    "    away = []\n",
    "\n",
    "    for match in matches:\n",
    "        home.append(match.find('th', class_='fhome').get_text())\n",
    "        score.append(match.find('th', class_='fscore').get_text())\n",
    "        away.append(match.find('th', class_='faway').get_text())\n",
    "\n",
    "    dict_football = {'home': home, 'score': score, 'away': away}\n",
    "    df_football = pd.DataFrame(dict_football)\n",
    "    df_football['year'] = year\n",
    "    return df_football\n",
    "\n",
    "\n",
    "# results: historical data\n",
    "fifa = [get_matches(year) for year in years]\n",
    "df_fifa = pd.concat(fifa, ignore_index=True)\n",
    "df_fifa.to_csv(\"fifa_worldcup_matches.csv\", index=False)\n",
    "\n",
    "# fixture\n",
    "df_fixture = get_matches(2022)\n",
    "df_fixture.to_csv('fifa_worldcup_fixture.csv', index=False)"
   ]
  },
  {
   "cell_type": "code",
   "execution_count": null,
   "id": "d5e44ba7",
   "metadata": {},
   "outputs": [],
   "source": []
  }
 ],
 "metadata": {
  "kernelspec": {
   "display_name": "Python 3 (ipykernel)",
   "language": "python",
   "name": "python3"
  },
  "language_info": {
   "codemirror_mode": {
    "name": "ipython",
    "version": 3
   },
   "file_extension": ".py",
   "mimetype": "text/x-python",
   "name": "python",
   "nbconvert_exporter": "python",
   "pygments_lexer": "ipython3",
   "version": "3.11.1"
  }
 },
 "nbformat": 4,
 "nbformat_minor": 5
}
